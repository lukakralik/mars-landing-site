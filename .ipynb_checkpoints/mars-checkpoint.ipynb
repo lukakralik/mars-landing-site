{
 "cells": [
  {
   "cell_type": "code",
   "execution_count": 1,
   "id": "f3dbbe72-d9da-43b4-a185-6a5f9da83f6d",
   "metadata": {},
   "outputs": [],
   "source": [
    "import numpy as np\n",
    "import cv2 as cv\n",
    "import matplotlib.pyplot"
   ]
  },
  {
   "cell_type": "code",
   "execution_count": 2,
   "id": "e1cd5b70-2ccc-44f6-adc9-f3c0b171e9a8",
   "metadata": {},
   "outputs": [],
   "source": [
    "import tkinter as tk\n",
    "from PIL import Image, ImageTk"
   ]
  },
  {
   "cell_type": "code",
   "execution_count": 3,
   "id": "cab385b1-a00b-412b-b549-d6e6a210dbe5",
   "metadata": {},
   "outputs": [],
   "source": [
    "GRAY_IMG = cv.imread(\"mola_1024x501.png\", cv.IMREAD_GRAYSCALE)\n",
    "COLOR_IMG = cv.imread(\"mola_color_1024x506.png\")\n",
    "WIDTH_KM = 670\n",
    "HEIGHT_KM = 335\n",
    "MAX_ELEV = 55\n",
    "N_CANDIDATES = 20\n",
    "CIRCUM = 21344\n",
    "\n",
    "IMG_HT, IMG_WIDTH = GRAY_IMG.shape\n",
    "PIXELS_PER_KM = IMG_WIDTH/CIRCUM\n",
    "RECT_WIDTH = int(PIXELS_PER_KM*WIDTH_KM)\n",
    "RECT_HT = int(PIXELS_PER_KM*HEIGHT_KM)\n",
    "LAT_30_N = int(IMG_HT/3)\n",
    "LAT_30_S = LAT_30_N*2"
   ]
  },
  {
   "cell_type": "code",
   "execution_count": 4,
   "id": "ff3da6eb-0b33-40ce-9994-3acc8c74a858",
   "metadata": {},
   "outputs": [],
   "source": [
    "STEP_X = int(RECT_WIDTH/2)\n",
    "STEP_Y = int(RECT_HT/2)"
   ]
  },
  {
   "cell_type": "code",
   "execution_count": 5,
   "id": "d6c2cc6c-52ef-4ce6-a2e0-a0e0f2d8ae61",
   "metadata": {},
   "outputs": [],
   "source": [
    "screen = tk.Tk()\n",
    "canvas = tk.Canvas(screen, width = IMG_WIDTH, height = IMG_HT+130)"
   ]
  },
  {
   "cell_type": "code",
   "execution_count": 2,
   "id": "698a3fb7-359b-453a-b6c8-3851f8329f20",
   "metadata": {
    "tags": []
   },
   "outputs": [],
   "source": [
    "class Search():\n",
    "    def __init__(self, name):\n",
    "        self.name = name\n",
    "        self.rect_coords = {}\n",
    "        self.rect_means = {}\n",
    "        self.rect_ptps = {}\n",
    "        self.rect_stds = {}\n",
    "        self.ptp_filtered = []\n",
    "        self.std_filtered = []\n",
    "        self.high_graded_rects = []\n",
    "    def run_sect_stats(self):\n",
    "        ul_x, ul_y = 0, LAT_30_N\n",
    "        lr_x, lr_y = RECT_WIDTH, LAT_30_N + RECT_HT\n",
    "        rect_num = 1\n",
    "        \n",
    "        while true:\n",
    "            rect_img = IMG_GRAY[ul_y: lr_y, ul_x,: lr_x]\n",
    "            self.rect_coords[rect_num] = [ul_x, ul_y, lr_x, lr_y]\n",
    "            if np.mean(rect_img) <= MAX_ELEV_LIMIT:\n",
    "                self.rect_means[rect_num] = np.mean(rect_img)\n",
    "                self.rect_ptps[rect_num] = np.ptp(rect_img)\n",
    "                self.rect_stds[rect_num] = np.std(rect_img)\n",
    "            rect_num += 1\n",
    "            ul_x += STEP_X\n",
    "            lr_x = ul_x + RECT_WIDTH\n",
    "            if lr_x > IMG_WIDTH:\n",
    "                ul_x = 0\n",
    "                ul_y += STEP_Y\n",
    "                lr_x = RECT_WIDTH\n",
    "                lr_y += STEP_Y\n",
    "            if lr_y > LAT_30_S + STEP_Y:\n",
    "                break\n",
    "    def draw_rectangles(self):\n",
    "        img_copy = GRAY_IMG.copy()\n",
    "        rects_sorted = sorted(self.rect_coords.items(), key=lambda x: x[0])\n",
    "        print(\"\\nRect Number and Corner coordinates (ul_x, ul_y, lr_x, lr_y):\")\n",
    "        for k,v in rects_sorted:\n",
    "            print(\"rect: {}, coords: {}\".format(k,v))\n",
    "            cv.rectangle(img_copy,\n",
    "                        (self.rect_coordsp[k][0], self.rect_coords[k][1]),\n",
    "                        (self.rect_coordsp[k][2], self.rect_coords[k][3]),\n",
    "                        (255, 0, 0), 1)\n",
    "            cv.imshow('QC Rects {}'.format(self.name), img_copy)\n",
    "            cv.waitKey(3000)\n",
    "            cv.destroyAllWindows()"
   ]
  },
  {
   "cell_type": "code",
   "execution_count": null,
   "id": "43d7325e-d6cb-4e4a-ada8-67939f77494e",
   "metadata": {},
   "outputs": [],
   "source": []
  }
 ],
 "metadata": {
  "kernelspec": {
   "display_name": "Python 3 (ipykernel)",
   "language": "python",
   "name": "python3"
  },
  "language_info": {
   "codemirror_mode": {
    "name": "ipython",
    "version": 3
   },
   "file_extension": ".py",
   "mimetype": "text/x-python",
   "name": "python",
   "nbconvert_exporter": "python",
   "pygments_lexer": "ipython3",
   "version": "3.10.5"
  }
 },
 "nbformat": 4,
 "nbformat_minor": 5
}
